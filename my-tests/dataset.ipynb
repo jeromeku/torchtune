{
 "cells": [
  {
   "cell_type": "code",
   "execution_count": 1,
   "metadata": {},
   "outputs": [],
   "source": [
    "from datasets import load_dataset\n",
    "import os\n",
    "import torch\n",
    "\n",
    "os.environ[\"HF_HOME\"] = \"/home/jeromeku/dev/third_party/torchtune/hf_cache\"\n",
    "dataset = load_dataset(\n",
    "    \"philschmid/dolly-15k-oai-style\",\n",
    "    split=\"train\",\n",
    ")"
   ]
  },
  {
   "cell_type": "code",
   "execution_count": 64,
   "metadata": {},
   "outputs": [
    {
     "data": {
      "text/plain": [
       "128009"
      ]
     },
     "execution_count": 64,
     "metadata": {},
     "output_type": "execute_result"
    }
   ],
   "source": [
    "model_name = \"meta-llama/Llama-3.2-1B-Instruct\"\n",
    "dtype = torch.bfloat16\n",
    "from transformers import AutoModelForCausalLM, AutoTokenizer, BitsAndBytesConfig\n",
    "from transformers.models.llama.modeling_llama import LlamaForCausalLM\n",
    "\n",
    "model = AutoModelForCausalLM.from_pretrained(\n",
    "    model_name, torch_dtype=dtype, device_map=\"auto\"\n",
    ")\n",
    "tokenizer = AutoTokenizer.from_pretrained(model_name)"
   ]
  },
  {
   "cell_type": "code",
   "execution_count": 147,
   "metadata": {},
   "outputs": [
    {
     "name": "stdout",
     "output_type": "stream",
     "text": [
      "True\n"
     ]
    }
   ],
   "source": [
    "tokenizer.model_max_length\n",
    "print(model.config.max_position_embeddings == tokenizer.model_max_length)\n",
    "from trl import setup_chat_format"
   ]
  },
  {
   "cell_type": "code",
   "execution_count": 154,
   "metadata": {},
   "outputs": [
    {
     "data": {
      "text/plain": [
       "'Hello, how are you?'"
      ]
     },
     "execution_count": 154,
     "metadata": {},
     "output_type": "execute_result"
    }
   ],
   "source": [
    "tokenizer(\"Hello, how are you?\", add_special_tokens=False)\n",
    "tokenizer.decode(\n",
    "    tokenizer.encode(\"Hello, how are you?\", add_special_tokens=False),\n",
    "    skip_special_tokens=False,\n",
    ")"
   ]
  },
  {
   "cell_type": "code",
   "execution_count": 72,
   "metadata": {},
   "outputs": [
    {
     "data": {
      "text/plain": [
       "'<|finetune_right_pad_id|>'"
      ]
     },
     "execution_count": 72,
     "metadata": {},
     "output_type": "execute_result"
    }
   ],
   "source": [
    "pad_token = [k for k in added_vocab.keys() if \"pad\" in k][0]\n",
    "pad_token"
   ]
  },
  {
   "cell_type": "code",
   "execution_count": 73,
   "metadata": {},
   "outputs": [],
   "source": [
    "tokenizer.pad_token = pad_token"
   ]
  },
  {
   "cell_type": "code",
   "execution_count": 74,
   "metadata": {},
   "outputs": [
    {
     "data": {
      "text/plain": [
       "128004"
      ]
     },
     "execution_count": 74,
     "metadata": {},
     "output_type": "execute_result"
    }
   ],
   "source": [
    "tokenizer.pad_token_id"
   ]
  },
  {
   "cell_type": "code",
   "execution_count": 102,
   "metadata": {},
   "outputs": [],
   "source": [
    "from trl import SFTConfig, SFTTrainer\n",
    "\n",
    "trainer = SFTTrainer(\n",
    "    model=model,\n",
    "    train_dataset=dataset,\n",
    "    processing_class=tokenizer,\n",
    "    args=SFTConfig(\n",
    "        per_device_train_batch_size=4,\n",
    "        gradient_accumulation_steps=4,\n",
    "        warmup_steps=1,\n",
    "        max_steps=10,\n",
    "        logging_steps=1,\n",
    "        max_seq_length=2048,\n",
    "        output_dir=\"outputs\",\n",
    "        seed=3407,\n",
    "        fp16=model.get_input_embeddings().weight.dtype == torch.float16,\n",
    "        bf16=model.get_input_embeddings().weight.dtype == torch.bfloat16,\n",
    "        report_to=\"wandb\",  # For W&B\n",
    "        dataset_num_proc=4,\n",
    "    ),\n",
    ")"
   ]
  },
  {
   "cell_type": "code",
   "execution_count": 103,
   "metadata": {},
   "outputs": [],
   "source": [
    "loader = trainer.get_train_dataloader()\n",
    "batches = iter(loader)\n",
    "batch = next(batches)\n",
    "input_ids = batch[\"input_ids\"][0]\n",
    "attention_mask = batch[\"attention_mask\"][0]\n",
    "labels = batch[\"labels\"][0]"
   ]
  },
  {
   "cell_type": "code",
   "execution_count": 140,
   "metadata": {},
   "outputs": [
    {
     "name": "stdout",
     "output_type": "stream",
     "text": [
      "<|begin_of_text|><|start_header_id|>system<|end_header_id|>\n",
      "\n",
      "Cutting Knowledge Date: December 2023\n",
      "Today Date: 21 Feb 2025\n",
      "\n",
      "<|eot_id|><|start_header_id|>user<|end_header_id|>\n",
      "\n",
      "Write a letter I can send to the company that installed my swimming pool. Explain to them that the pool has two leaks and that I'd like to make a warranty claim. Request a reply within the next 30 days.<|eot_id|><|start_header_id|>assistant<|end_header_id|>\n",
      "\n",
      "Date: April 4, 2023\n",
      "From: Firstname Lastname\n",
      "To: California Pool Company\n",
      "\n",
      "I purchased the home at 123 Main Street, Riverside, California in July 2022. The property has a pool that you installed in 2021. We have had multiple issues with the pool, including two leaks in the underground water lines supplying the automatic pool leveler. I understand the pool has a two-year warranty; I would like you to inspect the issues we have found before the warranty expires. I have enclosed photographs of the issues we have found so far. Please call me at 123-345-3883 to schedule an inspection at your earliest convenience, but no later than 30 days from your receipt of this letter. Thank you.<|eot_id|>\n",
      "<|begin_of_text|><|start_header_id|>system<|end_header_id|>\n",
      "\n",
      "Cutting Knowledge Date: December 2023\n",
      "Today Date: 21 Feb 2025\n",
      "\n",
      "<|eot_id|><|start_header_id|>user<|end_header_id|>\n",
      "\n",
      "Write a letter I can send to the company that installed my swimming pool. Explain to them that the pool has two leaks and that I'd like to make a warranty claim. Request a reply within the next 30 days.<|eot_id|><|start_header_id|>assistant<|end_header_id|>\n",
      "\n",
      "Date: April 4, 2023\n",
      "From: Firstname Lastname\n",
      "To: California Pool Company\n",
      "\n",
      "I purchased the home at 123 Main Street, Riverside, California in July 2022. The property has a pool that you installed in 2021. We have had multiple issues with the pool, including two leaks in the underground water lines supplying the automatic pool leveler. I understand the pool has a two-year warranty; I would like you to inspect the issues we have found before the warranty expires. I have enclosed photographs of the issues we have found so far. Please call me at 123-345-3883 to schedule an inspection at your earliest convenience, but no later than 30 days from your receipt of this letter. Thank you.<|eot_id|>\n"
     ]
    }
   ],
   "source": [
    "def get_attended_inputs(input_ids, attention_mask):\n",
    "    attended_idx = (attention_mask == 1).nonzero(as_tuple=False)\n",
    "    return tokenizer.decode(\n",
    "        input_ids.index_select(0, attended_idx.view(-1)), skip_special_tokens=False\n",
    "    )\n",
    "\n",
    "\n",
    "def get_attended_labels(labels):\n",
    "    attended_label_idx = (labels != -100).nonzero(as_tuple=False)\n",
    "    return tokenizer.decode(\n",
    "        labels.index_select(0, attended_label_idx.view(-1)), skip_special_tokens=False\n",
    "    )"
   ]
  },
  {
   "cell_type": "code",
   "execution_count": null,
   "metadata": {},
   "outputs": [],
   "source": [
    "print(get_attended_inputs(input_ids, attention_mask))"
   ]
  },
  {
   "cell_type": "code",
   "execution_count": null,
   "metadata": {},
   "outputs": [],
   "source": [
    "print(get_attended_labels(labels))"
   ]
  },
  {
   "cell_type": "code",
   "execution_count": 141,
   "metadata": {},
   "outputs": [],
   "source": [
    "# Repeat with pad_token = eos_token\n",
    "tokenizer.pad_token = tokenizer.eos_token\n",
    "trainer = SFTTrainer(\n",
    "    model=model,\n",
    "    train_dataset=dataset,\n",
    "    processing_class=tokenizer,\n",
    "    args=SFTConfig(\n",
    "        per_device_train_batch_size=4,\n",
    "        gradient_accumulation_steps=4,\n",
    "        warmup_steps=1,\n",
    "        max_steps=10,\n",
    "        logging_steps=1,\n",
    "        max_seq_length=2048,\n",
    "        output_dir=\"outputs\",\n",
    "        seed=3407,\n",
    "        fp16=model.get_input_embeddings().weight.dtype == torch.float16,\n",
    "        bf16=model.get_input_embeddings().weight.dtype == torch.bfloat16,\n",
    "        report_to=\"wandb\",  # For W&B\n",
    "        dataset_num_proc=4,\n",
    "    ),\n",
    ")\n",
    "\n",
    "\n",
    "def get_batch(trainer):\n",
    "    loader = trainer.get_train_dataloader()\n",
    "    batches = iter(loader)\n",
    "    batch = next(batches)\n",
    "    input_ids = batch[\"input_ids\"][0]\n",
    "    attention_mask = batch[\"attention_mask\"][0]\n",
    "    labels = batch[\"labels\"][0]\n",
    "    return input_ids, attention_mask, labels\n",
    "\n",
    "\n",
    "input_ids, attention_mask, labels = get_batch(trainer)"
   ]
  },
  {
   "cell_type": "code",
   "execution_count": 142,
   "metadata": {},
   "outputs": [
    {
     "name": "stdout",
     "output_type": "stream",
     "text": [
      "<|begin_of_text|><|start_header_id|>system<|end_header_id|>\n",
      "\n",
      "Cutting Knowledge Date: December 2023\n",
      "Today Date: 21 Feb 2025\n",
      "\n",
      "<|eot_id|><|start_header_id|>user<|end_header_id|>\n",
      "\n",
      "Write a letter I can send to the company that installed my swimming pool. Explain to them that the pool has two leaks and that I'd like to make a warranty claim. Request a reply within the next 30 days.<|eot_id|><|start_header_id|>assistant<|end_header_id|>\n",
      "\n",
      "Date: April 4, 2023\n",
      "From: Firstname Lastname\n",
      "To: California Pool Company\n",
      "\n",
      "I purchased the home at 123 Main Street, Riverside, California in July 2022. The property has a pool that you installed in 2021. We have had multiple issues with the pool, including two leaks in the underground water lines supplying the automatic pool leveler. I understand the pool has a two-year warranty; I would like you to inspect the issues we have found before the warranty expires. I have enclosed photographs of the issues we have found so far. Please call me at 123-345-3883 to schedule an inspection at your earliest convenience, but no later than 30 days from your receipt of this letter. Thank you.<|eot_id|>\n"
     ]
    }
   ],
   "source": [
    "print(get_attended_inputs(input_ids, attention_mask))"
   ]
  },
  {
   "cell_type": "code",
   "execution_count": 143,
   "metadata": {},
   "outputs": [
    {
     "name": "stdout",
     "output_type": "stream",
     "text": [
      "<|begin_of_text|><|start_header_id|>system<|end_header_id|>\n",
      "\n",
      "Cutting Knowledge Date: December 2023\n",
      "Today Date: 21 Feb 2025\n",
      "\n",
      "<|start_header_id|>user<|end_header_id|>\n",
      "\n",
      "Write a letter I can send to the company that installed my swimming pool. Explain to them that the pool has two leaks and that I'd like to make a warranty claim. Request a reply within the next 30 days.<|start_header_id|>assistant<|end_header_id|>\n",
      "\n",
      "Date: April 4, 2023\n",
      "From: Firstname Lastname\n",
      "To: California Pool Company\n",
      "\n",
      "I purchased the home at 123 Main Street, Riverside, California in July 2022. The property has a pool that you installed in 2021. We have had multiple issues with the pool, including two leaks in the underground water lines supplying the automatic pool leveler. I understand the pool has a two-year warranty; I would like you to inspect the issues we have found before the warranty expires. I have enclosed photographs of the issues we have found so far. Please call me at 123-345-3883 to schedule an inspection at your earliest convenience, but no later than 30 days from your receipt of this letter. Thank you.\n"
     ]
    }
   ],
   "source": [
    "print(get_attended_labels(labels))"
   ]
  },
  {
   "cell_type": "code",
   "execution_count": null,
   "metadata": {},
   "outputs": [],
   "source": []
  }
 ],
 "metadata": {
  "kernelspec": {
   "display_name": ".venv",
   "language": "python",
   "name": "python3"
  },
  "language_info": {
   "codemirror_mode": {
    "name": "ipython",
    "version": 3
   },
   "file_extension": ".py",
   "mimetype": "text/x-python",
   "name": "python",
   "nbconvert_exporter": "python",
   "pygments_lexer": "ipython3",
   "version": "3.11.11"
  }
 },
 "nbformat": 4,
 "nbformat_minor": 2
}
