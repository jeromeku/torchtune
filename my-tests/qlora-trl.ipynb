{
 "cells": [
  {
   "cell_type": "code",
   "execution_count": 6,
   "metadata": {},
   "outputs": [],
   "source": [
    "import os\n",
    "from pathlib import Path\n",
    "\n",
    "HF_HOME = Path(\"../hf_cache\")\n",
    "assert HF_HOME.exists()"
   ]
  },
  {
   "cell_type": "code",
   "execution_count": 7,
   "metadata": {},
   "outputs": [],
   "source": [
    "os.environ[\"HF_HUB_ENABLE_HF_TRANSFER\"] = \"1\"\n",
    "os.environ[\"HF_HOME\"] = str(HF_HOME)\n",
    "os.environ[\"WANDB_PROJECT\"] = \"qlora-fsdp2\""
   ]
  },
  {
   "cell_type": "code",
   "execution_count": 42,
   "metadata": {},
   "outputs": [
    {
     "name": "stderr",
     "output_type": "stream",
     "text": [
      "loading configuration file config.json from cache at ../hf_cache/hub/models--meta-llama--Llama-3.2-1B-Instruct/snapshots/9213176726f574b556790deb65791e0c5aa438b6/config.json\n",
      "Model config LlamaConfig {\n",
      "  \"_name_or_path\": \"meta-llama/Llama-3.2-1B-Instruct\",\n",
      "  \"architectures\": [\n",
      "    \"LlamaForCausalLM\"\n",
      "  ],\n",
      "  \"attention_bias\": false,\n",
      "  \"attention_dropout\": 0.0,\n",
      "  \"bos_token_id\": 128000,\n",
      "  \"eos_token_id\": [\n",
      "    128001,\n",
      "    128008,\n",
      "    128009\n",
      "  ],\n",
      "  \"head_dim\": 64,\n",
      "  \"hidden_act\": \"silu\",\n",
      "  \"hidden_size\": 2048,\n",
      "  \"initializer_range\": 0.02,\n",
      "  \"intermediate_size\": 8192,\n",
      "  \"max_position_embeddings\": 131072,\n",
      "  \"mlp_bias\": false,\n",
      "  \"model_type\": \"llama\",\n",
      "  \"num_attention_heads\": 32,\n",
      "  \"num_hidden_layers\": 16,\n",
      "  \"num_key_value_heads\": 8,\n",
      "  \"pretraining_tp\": 1,\n",
      "  \"rms_norm_eps\": 1e-05,\n",
      "  \"rope_scaling\": {\n",
      "    \"factor\": 32.0,\n",
      "    \"high_freq_factor\": 4.0,\n",
      "    \"low_freq_factor\": 1.0,\n",
      "    \"original_max_position_embeddings\": 8192,\n",
      "    \"rope_type\": \"llama3\"\n",
      "  },\n",
      "  \"rope_theta\": 500000.0,\n",
      "  \"tie_word_embeddings\": true,\n",
      "  \"torch_dtype\": \"bfloat16\",\n",
      "  \"transformers_version\": \"4.48.2\",\n",
      "  \"use_cache\": true,\n",
      "  \"vocab_size\": 128256\n",
      "}\n",
      "\n",
      "loading weights file model.safetensors from cache at ../hf_cache/hub/models--meta-llama--Llama-3.2-1B-Instruct/snapshots/9213176726f574b556790deb65791e0c5aa438b6/model.safetensors\n",
      "Generate config GenerationConfig {\n",
      "  \"bos_token_id\": 128000,\n",
      "  \"eos_token_id\": [\n",
      "    128001,\n",
      "    128008,\n",
      "    128009\n",
      "  ]\n",
      "}\n",
      "\n"
     ]
    },
    {
     "name": "stderr",
     "output_type": "stream",
     "text": [
      "All model checkpoint weights were used when initializing LlamaForCausalLM.\n",
      "\n",
      "All the weights of LlamaForCausalLM were initialized from the model checkpoint at meta-llama/Llama-3.2-1B-Instruct.\n",
      "If your task is similar to the task the model of the checkpoint was trained on, you can already use LlamaForCausalLM for predictions without further training.\n",
      "loading configuration file generation_config.json from cache at ../hf_cache/hub/models--meta-llama--Llama-3.2-1B-Instruct/snapshots/9213176726f574b556790deb65791e0c5aa438b6/generation_config.json\n",
      "Generate config GenerationConfig {\n",
      "  \"bos_token_id\": 128000,\n",
      "  \"do_sample\": true,\n",
      "  \"eos_token_id\": [\n",
      "    128001,\n",
      "    128008,\n",
      "    128009\n",
      "  ],\n",
      "  \"temperature\": 0.6,\n",
      "  \"top_p\": 0.9\n",
      "}\n",
      "\n"
     ]
    }
   ],
   "source": [
    "import datasets.utils.logging as ds_logging\n",
    "import torch\n",
    "import transformers.utils.logging as tf_logging\n",
    "from peft import LoraConfig, TaskType, get_peft_model, prepare_model_for_kbit_training\n",
    "from transformers import AutoModelForCausalLM, AutoTokenizer, BitsAndBytesConfig\n",
    "\n",
    "USE_QLORA = False\n",
    "RUN_NAME = \"hf-qlora-ref\" if USE_QLORA else \"hf-lora-ref\"\n",
    "\n",
    "tf_logging.set_verbosity_debug()\n",
    "ds_logging.set_verbosity_debug()\n",
    "\n",
    "max_seq_length = 2048\n",
    "torch.set_default_dtype(torch.bfloat16)\n",
    "model_name = \"meta-llama/Llama-3.2-1B-Instruct\"\n",
    "dtype = torch.bfloat16\n",
    "\n",
    "if USE_QLORA:\n",
    "    bnb_config = BitsAndBytesConfig(\n",
    "        load_in_4bit=True,\n",
    "        bnb_4bit_use_double_quant=True,\n",
    "        bnb_4bit_quant_type=\"nf4\",\n",
    "        bnb_4bit_compute_dtype=dtype,\n",
    "    )\n",
    "else:\n",
    "    bnb_config = None\n",
    "\n",
    "model = AutoModelForCausalLM.from_pretrained(\n",
    "    model_name,\n",
    "    device_map=\"auto\",\n",
    "    attn_implementation=\"sdpa\",\n",
    "    quantization_config=bnb_config,\n",
    ")"
   ]
  },
  {
   "cell_type": "code",
   "execution_count": 43,
   "metadata": {},
   "outputs": [],
   "source": [
    "model.model.layers = model.model.layers[:1]\n",
    "model.config.num_hidden_layers = 1"
   ]
  },
  {
   "cell_type": "code",
   "execution_count": 44,
   "metadata": {},
   "outputs": [
    {
     "name": "stderr",
     "output_type": "stream",
     "text": [
      "loading file tokenizer.json from cache at ../hf_cache/hub/models--meta-llama--Llama-3.2-1B-Instruct/snapshots/9213176726f574b556790deb65791e0c5aa438b6/tokenizer.json\n",
      "loading file tokenizer.model from cache at None\n",
      "loading file added_tokens.json from cache at None\n",
      "loading file special_tokens_map.json from cache at ../hf_cache/hub/models--meta-llama--Llama-3.2-1B-Instruct/snapshots/9213176726f574b556790deb65791e0c5aa438b6/special_tokens_map.json\n",
      "loading file tokenizer_config.json from cache at ../hf_cache/hub/models--meta-llama--Llama-3.2-1B-Instruct/snapshots/9213176726f574b556790deb65791e0c5aa438b6/tokenizer_config.json\n",
      "loading file chat_template.jinja from cache at None\n"
     ]
    },
    {
     "name": "stderr",
     "output_type": "stream",
     "text": [
      "Special tokens have been added in the vocabulary, make sure the associated word embeddings are fine-tuned or trained.\n"
     ]
    }
   ],
   "source": [
    "tokenizer = AutoTokenizer.from_pretrained(model_name)\n",
    "tokenizer.padding_side = \"right\"\n",
    "# add pad token\n",
    "added_vocab = tokenizer.get_added_vocab()\n",
    "pad_token = [w for w in added_vocab if \"pad\" in w]\n",
    "assert len(pad_token) == 1\n",
    "tokenizer.pad_token = pad_token[0]"
   ]
  },
  {
   "cell_type": "code",
   "execution_count": 45,
   "metadata": {},
   "outputs": [
    {
     "name": "stdout",
     "output_type": "stream",
     "text": [
      "<|begin_of_text|><|start_header_id|>system<|end_header_id|>\n",
      "\n",
      "Cutting Knowledge Date: December 2023\n",
      "Today Date: 20 Feb 2025\n",
      "\n",
      "<|eot_id|><|start_header_id|>user<|end_header_id|>\n",
      "\n",
      "Hello, how are you?\n"
     ]
    },
    {
     "data": {
      "text/plain": [
       "{'tokenizer_file': 'tokenizer.json', 'vocab_file': 'tokenizer.model'}"
      ]
     },
     "execution_count": 45,
     "metadata": {},
     "output_type": "execute_result"
    }
   ],
   "source": [
    "# print(tokenizer.chat_template)\n",
    "messages = [{\"role\": \"user\", \"content\": \"Hello, how are you?\"}]\n",
    "print(\n",
    "    tokenizer.apply_chat_template(\n",
    "        messages,\n",
    "        tokenize=False,\n",
    "        add_generation_prompt=False,\n",
    "        return_dict=False,\n",
    "        continue_final_message=True,\n",
    "    )\n",
    ")\n",
    "tokenizer.vocab_files_names"
   ]
  },
  {
   "cell_type": "code",
   "execution_count": 46,
   "metadata": {},
   "outputs": [
    {
     "name": "stdout",
     "output_type": "stream",
     "text": [
      "model.embed_tokens.weight <class 'torch.nn.parameter.Parameter'> True torch.bfloat16\n",
      "model.layers.0.self_attn.q_proj.weight <class 'torch.nn.parameter.Parameter'> True torch.bfloat16\n",
      "model.layers.0.self_attn.k_proj.weight <class 'torch.nn.parameter.Parameter'> True torch.bfloat16\n",
      "model.layers.0.self_attn.v_proj.weight <class 'torch.nn.parameter.Parameter'> True torch.bfloat16\n",
      "model.layers.0.self_attn.o_proj.weight <class 'torch.nn.parameter.Parameter'> True torch.bfloat16\n",
      "model.layers.0.mlp.gate_proj.weight <class 'torch.nn.parameter.Parameter'> True torch.bfloat16\n",
      "model.layers.0.mlp.up_proj.weight <class 'torch.nn.parameter.Parameter'> True torch.bfloat16\n",
      "model.layers.0.mlp.down_proj.weight <class 'torch.nn.parameter.Parameter'> True torch.bfloat16\n",
      "model.layers.0.input_layernorm.weight <class 'torch.nn.parameter.Parameter'> True torch.bfloat16\n",
      "model.layers.0.post_attention_layernorm.weight <class 'torch.nn.parameter.Parameter'> True torch.bfloat16\n",
      "model.norm.weight <class 'torch.nn.parameter.Parameter'> True torch.bfloat16\n"
     ]
    }
   ],
   "source": [
    "for name, param in model.named_parameters():\n",
    "    print(f\"{name} {type(param)} {param.requires_grad} {param.dtype}\")"
   ]
  },
  {
   "cell_type": "code",
   "execution_count": 47,
   "metadata": {},
   "outputs": [
    {
     "name": "stdout",
     "output_type": "stream",
     "text": [
      "model.embed_tokens.weight <class 'torch.nn.parameter.Parameter'> False torch.float32\n",
      "model.layers.0.self_attn.q_proj.weight <class 'torch.nn.parameter.Parameter'> False torch.float32\n",
      "model.layers.0.self_attn.k_proj.weight <class 'torch.nn.parameter.Parameter'> False torch.float32\n",
      "model.layers.0.self_attn.v_proj.weight <class 'torch.nn.parameter.Parameter'> False torch.float32\n",
      "model.layers.0.self_attn.o_proj.weight <class 'torch.nn.parameter.Parameter'> False torch.float32\n",
      "model.layers.0.mlp.gate_proj.weight <class 'torch.nn.parameter.Parameter'> False torch.float32\n",
      "model.layers.0.mlp.up_proj.weight <class 'torch.nn.parameter.Parameter'> False torch.float32\n",
      "model.layers.0.mlp.down_proj.weight <class 'torch.nn.parameter.Parameter'> False torch.float32\n",
      "model.layers.0.input_layernorm.weight <class 'torch.nn.parameter.Parameter'> False torch.float32\n",
      "model.layers.0.post_attention_layernorm.weight <class 'torch.nn.parameter.Parameter'> False torch.float32\n",
      "model.norm.weight <class 'torch.nn.parameter.Parameter'> False torch.float32\n"
     ]
    }
   ],
   "source": [
    "model = prepare_model_for_kbit_training(model)\n",
    "for name, param in model.named_parameters():\n",
    "    print(f\"{name} {type(param)} {param.requires_grad} {param.dtype}\")"
   ]
  },
  {
   "cell_type": "code",
   "execution_count": 30,
   "metadata": {},
   "outputs": [],
   "source": [
    "lora_config = LoraConfig(\n",
    "    r=64,\n",
    "    lora_alpha=128,\n",
    "    target_modules=[\n",
    "        \"q_proj\",\n",
    "        \"k_proj\",\n",
    "        \"v_proj\",\n",
    "        # \"o_proj\",\n",
    "        # \"gate_proj\",\n",
    "        # \"up_proj\",\n",
    "        # \"down_proj\",\n",
    "    ],\n",
    "    lora_dropout=0,\n",
    "    bias=\"none\",\n",
    "    task_type=TaskType.CAUSAL_LM,\n",
    ")"
   ]
  },
  {
   "cell_type": "code",
   "execution_count": 32,
   "metadata": {},
   "outputs": [
    {
     "name": "stdout",
     "output_type": "stream",
     "text": [
      "base_model.model.base_model.model.base_model.model.model.embed_tokens.weight <class 'torch.nn.parameter.Parameter'> False\n",
      "base_model.model.base_model.model.base_model.model.model.layers.0.self_attn.q_proj.base_layer.weight <class 'torch.nn.parameter.Parameter'> False\n",
      "base_model.model.base_model.model.base_model.model.model.layers.0.self_attn.q_proj.lora_A.default.weight <class 'torch.nn.parameter.Parameter'> True\n",
      "base_model.model.base_model.model.base_model.model.model.layers.0.self_attn.q_proj.lora_B.default.weight <class 'torch.nn.parameter.Parameter'> True\n",
      "base_model.model.base_model.model.base_model.model.model.layers.0.self_attn.k_proj.base_layer.weight <class 'torch.nn.parameter.Parameter'> False\n",
      "base_model.model.base_model.model.base_model.model.model.layers.0.self_attn.k_proj.lora_A.default.weight <class 'torch.nn.parameter.Parameter'> True\n",
      "base_model.model.base_model.model.base_model.model.model.layers.0.self_attn.k_proj.lora_B.default.weight <class 'torch.nn.parameter.Parameter'> True\n",
      "base_model.model.base_model.model.base_model.model.model.layers.0.self_attn.v_proj.base_layer.weight <class 'torch.nn.parameter.Parameter'> False\n",
      "base_model.model.base_model.model.base_model.model.model.layers.0.self_attn.v_proj.lora_A.default.weight <class 'torch.nn.parameter.Parameter'> True\n",
      "base_model.model.base_model.model.base_model.model.model.layers.0.self_attn.v_proj.lora_B.default.weight <class 'torch.nn.parameter.Parameter'> True\n",
      "base_model.model.base_model.model.base_model.model.model.layers.0.self_attn.o_proj.base_layer.weight <class 'torch.nn.parameter.Parameter'> False\n",
      "base_model.model.base_model.model.base_model.model.model.layers.0.self_attn.o_proj.lora_A.default.weight <class 'torch.nn.parameter.Parameter'> True\n",
      "base_model.model.base_model.model.base_model.model.model.layers.0.self_attn.o_proj.lora_B.default.weight <class 'torch.nn.parameter.Parameter'> True\n",
      "base_model.model.base_model.model.base_model.model.model.layers.0.mlp.gate_proj.base_layer.weight <class 'torch.nn.parameter.Parameter'> False\n",
      "base_model.model.base_model.model.base_model.model.model.layers.0.mlp.gate_proj.lora_A.default.weight <class 'torch.nn.parameter.Parameter'> True\n",
      "base_model.model.base_model.model.base_model.model.model.layers.0.mlp.gate_proj.lora_B.default.weight <class 'torch.nn.parameter.Parameter'> True\n",
      "base_model.model.base_model.model.base_model.model.model.layers.0.mlp.up_proj.base_layer.weight <class 'torch.nn.parameter.Parameter'> False\n",
      "base_model.model.base_model.model.base_model.model.model.layers.0.mlp.up_proj.lora_A.default.weight <class 'torch.nn.parameter.Parameter'> True\n",
      "base_model.model.base_model.model.base_model.model.model.layers.0.mlp.up_proj.lora_B.default.weight <class 'torch.nn.parameter.Parameter'> True\n",
      "base_model.model.base_model.model.base_model.model.model.layers.0.mlp.down_proj.base_layer.weight <class 'torch.nn.parameter.Parameter'> False\n",
      "base_model.model.base_model.model.base_model.model.model.layers.0.mlp.down_proj.lora_A.default.weight <class 'torch.nn.parameter.Parameter'> True\n",
      "base_model.model.base_model.model.base_model.model.model.layers.0.mlp.down_proj.lora_B.default.weight <class 'torch.nn.parameter.Parameter'> True\n",
      "base_model.model.base_model.model.base_model.model.model.layers.0.input_layernorm.weight <class 'torch.nn.parameter.Parameter'> False\n",
      "base_model.model.base_model.model.base_model.model.model.layers.0.post_attention_layernorm.weight <class 'torch.nn.parameter.Parameter'> False\n",
      "base_model.model.base_model.model.base_model.model.model.norm.weight <class 'torch.nn.parameter.Parameter'> False\n"
     ]
    }
   ],
   "source": [
    "# Get LoRA and setup model\n",
    "model = get_peft_model(model, lora_config)\n",
    "\n",
    "for name, param in model.named_parameters():\n",
    "    print(f\"{name} {type(param)} {param.requires_grad}\")"
   ]
  },
  {
   "cell_type": "code",
   "execution_count": 34,
   "metadata": {},
   "outputs": [],
   "source": [
    "embeddings = model.get_input_embeddings()\n",
    "output_embeddings = model.get_output_embeddings()"
   ]
  },
  {
   "cell_type": "code",
   "execution_count": 37,
   "metadata": {},
   "outputs": [
    {
     "data": {
      "text/plain": [
       "torch.float32"
      ]
     },
     "execution_count": 37,
     "metadata": {},
     "output_type": "execute_result"
    }
   ],
   "source": [
    "embeddings.weight.dtype"
   ]
  },
  {
   "cell_type": "code",
   "execution_count": 40,
   "metadata": {},
   "outputs": [],
   "source": [
    "model = prepare_model_for_kbit_training(model)"
   ]
  },
  {
   "cell_type": "code",
   "execution_count": 41,
   "metadata": {},
   "outputs": [
    {
     "name": "stdout",
     "output_type": "stream",
     "text": [
      "base_model.model.base_model.model.base_model.model.model.embed_tokens.weight <class 'torch.nn.parameter.Parameter'> False\n",
      "base_model.model.base_model.model.base_model.model.model.layers.0.self_attn.q_proj.base_layer.weight <class 'torch.nn.parameter.Parameter'> False\n",
      "base_model.model.base_model.model.base_model.model.model.layers.0.self_attn.q_proj.lora_A.default.weight <class 'torch.nn.parameter.Parameter'> False\n",
      "base_model.model.base_model.model.base_model.model.model.layers.0.self_attn.q_proj.lora_B.default.weight <class 'torch.nn.parameter.Parameter'> False\n",
      "base_model.model.base_model.model.base_model.model.model.layers.0.self_attn.k_proj.base_layer.weight <class 'torch.nn.parameter.Parameter'> False\n",
      "base_model.model.base_model.model.base_model.model.model.layers.0.self_attn.k_proj.lora_A.default.weight <class 'torch.nn.parameter.Parameter'> False\n",
      "base_model.model.base_model.model.base_model.model.model.layers.0.self_attn.k_proj.lora_B.default.weight <class 'torch.nn.parameter.Parameter'> False\n",
      "base_model.model.base_model.model.base_model.model.model.layers.0.self_attn.v_proj.base_layer.weight <class 'torch.nn.parameter.Parameter'> False\n",
      "base_model.model.base_model.model.base_model.model.model.layers.0.self_attn.v_proj.lora_A.default.weight <class 'torch.nn.parameter.Parameter'> False\n",
      "base_model.model.base_model.model.base_model.model.model.layers.0.self_attn.v_proj.lora_B.default.weight <class 'torch.nn.parameter.Parameter'> False\n",
      "base_model.model.base_model.model.base_model.model.model.layers.0.self_attn.o_proj.base_layer.weight <class 'torch.nn.parameter.Parameter'> False\n",
      "base_model.model.base_model.model.base_model.model.model.layers.0.self_attn.o_proj.lora_A.default.weight <class 'torch.nn.parameter.Parameter'> False\n",
      "base_model.model.base_model.model.base_model.model.model.layers.0.self_attn.o_proj.lora_B.default.weight <class 'torch.nn.parameter.Parameter'> False\n",
      "base_model.model.base_model.model.base_model.model.model.layers.0.mlp.gate_proj.base_layer.weight <class 'torch.nn.parameter.Parameter'> False\n",
      "base_model.model.base_model.model.base_model.model.model.layers.0.mlp.gate_proj.lora_A.default.weight <class 'torch.nn.parameter.Parameter'> False\n",
      "base_model.model.base_model.model.base_model.model.model.layers.0.mlp.gate_proj.lora_B.default.weight <class 'torch.nn.parameter.Parameter'> False\n",
      "base_model.model.base_model.model.base_model.model.model.layers.0.mlp.up_proj.base_layer.weight <class 'torch.nn.parameter.Parameter'> False\n",
      "base_model.model.base_model.model.base_model.model.model.layers.0.mlp.up_proj.lora_A.default.weight <class 'torch.nn.parameter.Parameter'> False\n",
      "base_model.model.base_model.model.base_model.model.model.layers.0.mlp.up_proj.lora_B.default.weight <class 'torch.nn.parameter.Parameter'> False\n",
      "base_model.model.base_model.model.base_model.model.model.layers.0.mlp.down_proj.base_layer.weight <class 'torch.nn.parameter.Parameter'> False\n",
      "base_model.model.base_model.model.base_model.model.model.layers.0.mlp.down_proj.lora_A.default.weight <class 'torch.nn.parameter.Parameter'> False\n",
      "base_model.model.base_model.model.base_model.model.model.layers.0.mlp.down_proj.lora_B.default.weight <class 'torch.nn.parameter.Parameter'> False\n",
      "base_model.model.base_model.model.base_model.model.model.layers.0.input_layernorm.weight <class 'torch.nn.parameter.Parameter'> False\n",
      "base_model.model.base_model.model.base_model.model.model.layers.0.post_attention_layernorm.weight <class 'torch.nn.parameter.Parameter'> False\n",
      "base_model.model.base_model.model.base_model.model.model.norm.weight <class 'torch.nn.parameter.Parameter'> False\n"
     ]
    }
   ],
   "source": [
    "for name, param in model.named_parameters():\n",
    "    print(f\"{name} {type(param)} {param.requires_grad}\")"
   ]
  },
  {
   "cell_type": "code",
   "execution_count": null,
   "metadata": {},
   "outputs": [],
   "source": []
  },
  {
   "cell_type": "code",
   "execution_count": null,
   "metadata": {},
   "outputs": [],
   "source": []
  },
  {
   "cell_type": "code",
   "execution_count": null,
   "metadata": {},
   "outputs": [],
   "source": []
  },
  {
   "cell_type": "code",
   "execution_count": null,
   "metadata": {},
   "outputs": [],
   "source": []
  },
  {
   "cell_type": "code",
   "execution_count": null,
   "metadata": {},
   "outputs": [],
   "source": [
    "model = prepare_model_for_kbit_training(model)\n",
    "\n",
    "with torch.no_grad():\n",
    "    for name, param in model.named_parameters():\n",
    "        if \".lora_A.\" in name or \".lora_B.\" in name:\n",
    "            param.requires_grad_(True)\n",
    "        else:\n",
    "            param.requires_grad_(False)\n",
    "model.gradient_checkpointing_enable()\n",
    "model.enable_input_require_grads()\n",
    "\n",
    "print(model)\n",
    "for name, param in model.named_parameters():\n",
    "    print(f\"{name} {type(param)} {param.shape}\")\n",
    "# Get dataset\n",
    "from datasets import load_dataset\n",
    "from trl import SFTConfig, SFTTrainer\n",
    "\n",
    "url = \"https://huggingface.co/datasets/laion/OIG/resolve/main/unified_chip2.jsonl\"\n",
    "dataset = load_dataset(\"json\", data_files={\"train\": url}, split=\"train[:10%]\")\n",
    "\n",
    "trainer = SFTTrainer(\n",
    "    model=model,\n",
    "    train_dataset=dataset,\n",
    "    processing_class=tokenizer,\n",
    "    args=SFTConfig(\n",
    "        per_device_train_batch_size=2,\n",
    "        gradient_accumulation_steps=4,\n",
    "        warmup_steps=1,\n",
    "        max_steps=10,\n",
    "        logging_steps=1,\n",
    "        output_dir=\"outputs\",\n",
    "        seed=3407,\n",
    "        max_seq_length=max_seq_length,\n",
    "        fp16=model.get_input_embeddings().weight.dtype == torch.float16,\n",
    "        bf16=model.get_input_embeddings().weight.dtype == torch.bfloat16,\n",
    "        report_to=\"wandb\",  # For W&B\n",
    "        dataset_num_proc=4,\n",
    "        run_name=RUN_NAME,\n",
    "    ),\n",
    ")\n",
    "\n",
    "# trainer.train()"
   ]
  },
  {
   "cell_type": "code",
   "execution_count": null,
   "metadata": {},
   "outputs": [],
   "source": [
    "to"
   ]
  }
 ],
 "metadata": {
  "kernelspec": {
   "display_name": ".venv",
   "language": "python",
   "name": "python3"
  },
  "language_info": {
   "codemirror_mode": {
    "name": "ipython",
    "version": 3
   },
   "file_extension": ".py",
   "mimetype": "text/x-python",
   "name": "python",
   "nbconvert_exporter": "python",
   "pygments_lexer": "ipython3",
   "version": "3.11.11"
  }
 },
 "nbformat": 4,
 "nbformat_minor": 2
}
